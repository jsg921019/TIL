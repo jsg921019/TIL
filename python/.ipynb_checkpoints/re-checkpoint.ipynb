{
 "cells": [
  {
   "cell_type": "markdown",
   "metadata": {},
   "source": [
    "# 기초 지식"
   ]
  },
  {
   "cell_type": "markdown",
   "metadata": {},
   "source": [
    "* 정규표현식 라이브러리"
   ]
  },
  {
   "cell_type": "code",
   "execution_count": 1,
   "metadata": {},
   "outputs": [],
   "source": [
    "import re"
   ]
  },
  {
   "cell_type": "markdown",
   "metadata": {},
   "source": [
    "* raw string"
   ]
  },
  {
   "cell_type": "code",
   "execution_count": 2,
   "metadata": {
    "scrolled": true
   },
   "outputs": [
    {
     "name": "stdout",
     "output_type": "stream",
     "text": [
      "Not raw : \tTab\n",
      "Raw     : \\tTab\n"
     ]
    }
   ],
   "source": [
    "print('Not raw :','\\tTab')\n",
    "print('Raw     :', r'\\tTab')"
   ]
  },
  {
   "cell_type": "markdown",
   "metadata": {},
   "source": [
    "* 메타문자"
   ]
  },
  {
   "cell_type": "markdown",
   "metadata": {},
   "source": [
    "`. ^ $ * + ? { } [ ] \\ | ( )`"
   ]
  },
  {
   "cell_type": "markdown",
   "metadata": {},
   "source": [
    "# 정규 표현식"
   ]
  },
  {
   "cell_type": "markdown",
   "metadata": {},
   "source": [
    "## 한글자"
   ]
  },
  {
   "cell_type": "markdown",
   "metadata": {},
   "source": [
    "### ."
   ]
  },
  {
   "cell_type": "markdown",
   "metadata": {},
   "source": [
    "* .은 /n을 제외한 모든 문자와 매치"
   ]
  },
  {
   "cell_type": "code",
   "execution_count": 3,
   "metadata": {},
   "outputs": [
    {
     "name": "stdout",
     "output_type": "stream",
     "text": [
      "['Py']\n"
     ]
    }
   ],
   "source": [
    "p = re.compile('P.')    # a, e, i, o, u 중 한글자와 매치되는가?\n",
    "\n",
    "matches = p.findall('Python3.8')\n",
    "print(matches)"
   ]
  },
  {
   "cell_type": "markdown",
   "metadata": {},
   "source": [
    "* 문자 '.'을 매치시키고 싶으면 [.]나 \\\\. 을 사용(모든 메타문자에 적용)"
   ]
  },
  {
   "cell_type": "code",
   "execution_count": 4,
   "metadata": {},
   "outputs": [
    {
     "name": "stdout",
     "output_type": "stream",
     "text": [
      "['.']\n"
     ]
    }
   ],
   "source": [
    "p = re.compile('\\.')    # a, e, i, o, u 중 한글자와 매치되는가?\n",
    "\n",
    "matches = p.findall('Python3.8')\n",
    "print(matches)"
   ]
  },
  {
   "cell_type": "markdown",
   "metadata": {},
   "source": [
    "### [  ]"
   ]
  },
  {
   "cell_type": "markdown",
   "metadata": {},
   "source": [
    "* [  ]안에 있는 글자중 하나"
   ]
  },
  {
   "cell_type": "code",
   "execution_count": 5,
   "metadata": {},
   "outputs": [
    {
     "name": "stdout",
     "output_type": "stream",
     "text": [
      "['o']\n"
     ]
    }
   ],
   "source": [
    "p = re.compile('[aeiou]')    # a, e, i, o, u 중 한글자와 매치되는가?\n",
    "\n",
    "matches = p.findall('Python3.8')\n",
    "print(matches)"
   ]
  },
  {
   "cell_type": "markdown",
   "metadata": {},
   "source": [
    "* [  ] 안의 두문자 사이에 -을 쓰면 그 사이의 값이 됨"
   ]
  },
  {
   "cell_type": "code",
   "execution_count": 6,
   "metadata": {},
   "outputs": [
    {
     "name": "stdout",
     "output_type": "stream",
     "text": [
      "['y', 't', 'h', 'o', 'n']\n"
     ]
    }
   ],
   "source": [
    "p = re.compile('[a-z]')    # a에서 z중 한글자와 매치되는가?\n",
    "\n",
    "matches = p.findall('Python3.8')\n",
    "print(matches)"
   ]
  },
  {
   "cell_type": "markdown",
   "metadata": {},
   "source": [
    "* [  ] 안의 앞에 ^가 있으면 아닌 값들이 됨"
   ]
  },
  {
   "cell_type": "code",
   "execution_count": 7,
   "metadata": {},
   "outputs": [
    {
     "name": "stdout",
     "output_type": "stream",
     "text": [
      "['P', '3', '.', '8']\n"
     ]
    }
   ],
   "source": [
    "p = re.compile('[^a-z]')    # a에서 z가 아닌 한글자와 매치되는가?\n",
    "\n",
    "matches = p.findall('Python3.8')\n",
    "print(matches)"
   ]
  },
  {
   "cell_type": "markdown",
   "metadata": {},
   "source": [
    "### 스니핏"
   ]
  },
  {
   "cell_type": "code",
   "execution_count": 8,
   "metadata": {},
   "outputs": [
    {
     "name": "stdout",
     "output_type": "stream",
     "text": [
      "['3', '8']\n"
     ]
    }
   ],
   "source": [
    "# \\d : digit, [0-9]\n",
    "# \\w : alphanumeric, [a-zA-Z0-9_]\n",
    "# \\s : whitespace, [ \\t\\n\\r\\f\\v]\n",
    "# \\D : [^\\d]\n",
    "# \\W : [^\\w]\n",
    "# \\S : [^\\s]\n",
    "\n",
    "p = re.compile('\\d')    # digit과 매치되는가?\n",
    "\n",
    "matches = p.findall('Python3.8')\n",
    "print(matches)"
   ]
  },
  {
   "cell_type": "markdown",
   "metadata": {},
   "source": [
    "## 반복"
   ]
  },
  {
   "cell_type": "markdown",
   "metadata": {},
   "source": [
    "### *"
   ]
  },
  {
   "cell_type": "markdown",
   "metadata": {},
   "source": [
    "* 앞의 문자가 0번 이상 반복"
   ]
  },
  {
   "cell_type": "code",
   "execution_count": 9,
   "metadata": {},
   "outputs": [
    {
     "name": "stdout",
     "output_type": "stream",
     "text": [
      "['do', 'dol', 'doll']\n"
     ]
    }
   ],
   "source": [
    "p = re.compile('dol*')\n",
    "matches= p.findall('does dolphin like dolls?')\n",
    "print(matches)"
   ]
  },
  {
   "cell_type": "markdown",
   "metadata": {},
   "source": [
    "### +"
   ]
  },
  {
   "cell_type": "markdown",
   "metadata": {},
   "source": [
    "* 앞의 문자가 1번 이상 반복"
   ]
  },
  {
   "cell_type": "code",
   "execution_count": 10,
   "metadata": {},
   "outputs": [
    {
     "name": "stdout",
     "output_type": "stream",
     "text": [
      "['dol', 'doll']\n"
     ]
    }
   ],
   "source": [
    "p = re.compile('dol+')\n",
    "matches= p.findall('does dolphin like dolls?')\n",
    "print(matches)"
   ]
  },
  {
   "cell_type": "markdown",
   "metadata": {},
   "source": [
    "### { }"
   ]
  },
  {
   "cell_type": "markdown",
   "metadata": {},
   "source": [
    "* {m}    : m번 반복\n",
    "* {m, n} : m번 이상, n번 이하 반복\n",
    "* {, n}  : n번 이하 반복\n",
    "* {m, }  : m번 이상 반복"
   ]
  },
  {
   "cell_type": "code",
   "execution_count": 11,
   "metadata": {},
   "outputs": [
    {
     "name": "stdout",
     "output_type": "stream",
     "text": [
      "['dol', 'doll']\n"
     ]
    }
   ],
   "source": [
    "p = re.compile('dol{1,2}')\n",
    "matches= p.findall('does dolphin like dolls?')\n",
    "print(matches)"
   ]
  },
  {
   "cell_type": "markdown",
   "metadata": {},
   "source": [
    "### ?"
   ]
  },
  {
   "cell_type": "markdown",
   "metadata": {},
   "source": [
    "* 0번 or 1번"
   ]
  },
  {
   "cell_type": "code",
   "execution_count": 12,
   "metadata": {},
   "outputs": [
    {
     "name": "stdout",
     "output_type": "stream",
     "text": [
      "['do', 'dol', 'dol']\n"
     ]
    }
   ],
   "source": [
    "p = re.compile('dol?')\n",
    "matches= p.findall('does dolphin like dolls?')\n",
    "print(matches)"
   ]
  },
  {
   "cell_type": "markdown",
   "metadata": {},
   "source": [
    "## 매칭에 포함되지 않는 메타 문자(zero_width)"
   ]
  },
  {
   "cell_type": "markdown",
   "metadata": {},
   "source": [
    "### |"
   ]
  },
  {
   "cell_type": "markdown",
   "metadata": {},
   "source": [
    "* or 을 의미"
   ]
  },
  {
   "cell_type": "code",
   "execution_count": 13,
   "metadata": {},
   "outputs": [
    {
     "name": "stdout",
     "output_type": "stream",
     "text": [
      "['Mr.Arnold', 'Mrs.John']\n"
     ]
    }
   ],
   "source": [
    "print(re.findall(r'Mr\\.\\w+|Mrs\\.\\w+|Ms\\.\\w+', 'Mr.Arnold says hello to Mrs.John'))"
   ]
  },
  {
   "cell_type": "markdown",
   "metadata": {},
   "source": [
    "### ^ , $"
   ]
  },
  {
   "cell_type": "markdown",
   "metadata": {},
   "source": [
    "* 문자열의 시작/끝을 의미 (re.MULTILINE 영향 받음)"
   ]
  },
  {
   "cell_type": "code",
   "execution_count": 14,
   "metadata": {},
   "outputs": [
    {
     "name": "stdout",
     "output_type": "stream",
     "text": [
      "['1', '10', 'A', 'Z', 'Start', 'End']\n"
     ]
    }
   ],
   "source": [
    "string='''1 to 10\n",
    "A to Z\n",
    "Start to End'''\n",
    "\n",
    "print(re.findall(r'^\\w+|\\w+$', string, re.MULTILINE))"
   ]
  },
  {
   "cell_type": "markdown",
   "metadata": {},
   "source": [
    "### \\A, \\Z"
   ]
  },
  {
   "cell_type": "markdown",
   "metadata": {},
   "source": [
    "* 문자열의 시작/끝을 의미 (re.MULTILINE 영향 안 받음)"
   ]
  },
  {
   "cell_type": "code",
   "execution_count": 15,
   "metadata": {},
   "outputs": [
    {
     "name": "stdout",
     "output_type": "stream",
     "text": [
      "['1', 'End']\n"
     ]
    }
   ],
   "source": [
    "string='''1 to 10\n",
    "A to Z\n",
    "Start to End'''\n",
    "\n",
    "print(re.findall(r'\\A\\w+|\\w+\\Z', string, re.MULTILINE))"
   ]
  },
  {
   "cell_type": "markdown",
   "metadata": {},
   "source": [
    "### \\b, \\B"
   ]
  },
  {
   "cell_type": "code",
   "execution_count": 16,
   "metadata": {},
   "outputs": [
    {
     "name": "stdout",
     "output_type": "stream",
     "text": [
      "['class']\n",
      "['class']\n"
     ]
    }
   ],
   "source": [
    "# \\b : word boundary (\\s와 다르게 매칭에 포함되지는 않음)\n",
    "# \\B : 그 반대\n",
    "\n",
    "p = re.compile(r'\\bclass\\b')\n",
    "print(p.findall('class about subclasses')) #class가 매치됨\n",
    "\n",
    "p = re.compile(r'\\Bclass\\B')\n",
    "print(p.findall('class about subclasses is classified'))   #subclasses가 매치됨"
   ]
  },
  {
   "cell_type": "markdown",
   "metadata": {},
   "source": [
    "# 패턴 객체"
   ]
  },
  {
   "cell_type": "code",
   "execution_count": 17,
   "metadata": {},
   "outputs": [
    {
     "data": {
      "text/plain": [
       "re.Pattern"
      ]
     },
     "execution_count": 17,
     "metadata": {},
     "output_type": "execute_result"
    }
   ],
   "source": [
    "p = re.compile('[a-z]+')\n",
    "type(p)"
   ]
  },
  {
   "cell_type": "markdown",
   "metadata": {},
   "source": [
    "## 컴파일 옵션"
   ]
  },
  {
   "cell_type": "markdown",
   "metadata": {},
   "source": [
    "### DOTALL, S"
   ]
  },
  {
   "cell_type": "markdown",
   "metadata": {},
   "source": [
    "* .은 원래 /n을 매치시키지 않지만 re.DOTALL옵션을 넣어주면 /n도 매칭 가능"
   ]
  },
  {
   "cell_type": "code",
   "execution_count": 18,
   "metadata": {},
   "outputs": [
    {
     "name": "stdout",
     "output_type": "stream",
     "text": [
      "None\n",
      "<re.Match object; span=(0, 3), match='a\\nb'>\n"
     ]
    }
   ],
   "source": [
    "p1 = re.compile('a.b')\n",
    "p2 = re.compile('a.b', re.S)\n",
    "\n",
    "m1 = p1.match('a\\nb')\n",
    "m2 = p2.match('a\\nb')\n",
    "\n",
    "print(m1)\n",
    "print(m2)"
   ]
  },
  {
   "cell_type": "markdown",
   "metadata": {},
   "source": [
    "### IGNORECASE, I"
   ]
  },
  {
   "cell_type": "markdown",
   "metadata": {},
   "source": [
    "* 대소문자 구별 안함"
   ]
  },
  {
   "cell_type": "code",
   "execution_count": 19,
   "metadata": {},
   "outputs": [
    {
     "name": "stdout",
     "output_type": "stream",
     "text": [
      "['r']\n",
      "['M', 'r', 'K']\n"
     ]
    }
   ],
   "source": [
    "p1 = re.compile('[a-z]')\n",
    "p2 = re.compile('[a-z]', re.I)\n",
    "\n",
    "print(p1.findall('Mr.K'))\n",
    "print(p2.findall('Mr.K'))"
   ]
  },
  {
   "cell_type": "markdown",
   "metadata": {},
   "source": [
    "### MULTILINE, M"
   ]
  },
  {
   "cell_type": "markdown",
   "metadata": {},
   "source": [
    "* ^, $ 메타 문자를 문자열의 각 줄마다 적용"
   ]
  },
  {
   "cell_type": "code",
   "execution_count": 20,
   "metadata": {},
   "outputs": [
    {
     "name": "stdout",
     "output_type": "stream",
     "text": [
      "['python one']\n",
      "['python one', 'python two', 'python three']\n"
     ]
    }
   ],
   "source": [
    "p1 = re.compile(\"^python\\s\\w+\")\n",
    "p2 = re.compile(\"^python\\s\\w+\", re.M)\n",
    "\n",
    "data = \"\"\"python one\n",
    "life is too short\n",
    "python two\n",
    "you need python\n",
    "python three\"\"\"\n",
    "\n",
    "print(p1.findall(data))\n",
    "print(p2.findall(data))"
   ]
  },
  {
   "cell_type": "markdown",
   "metadata": {},
   "source": [
    "### VERBOSE, X"
   ]
  },
  {
   "cell_type": "markdown",
   "metadata": {},
   "source": [
    "* 줄 단위로 #기호를 사용하여 주석문을 작성할 수 있음\n",
    "* 문자열에 사용된 whitespace는 컴파일할 때 제거됨(단 [ ] 안에 사용한 whitespace는 제외)"
   ]
  },
  {
   "cell_type": "code",
   "execution_count": 21,
   "metadata": {},
   "outputs": [
    {
     "name": "stdout",
     "output_type": "stream",
     "text": [
      "['1234', 'o5462', 'xAd5B']\n"
     ]
    }
   ],
   "source": [
    "charref = re.compile(r\"\"\"\n",
    " &[#]                # Start of a numeric entity reference\n",
    " (\n",
    "     o[0-7]+         # Octal form\n",
    "   | [0-9]+          # Decimal form\n",
    "   | x[0-9a-fA-F]+   # Hexadecimal form\n",
    " )\n",
    " ;                   # Trailing semicolon\n",
    "\"\"\", re.VERBOSE)\n",
    "\n",
    "print(charref.findall('&#1234; &#o5462; &#xAd5B;'))"
   ]
  },
  {
   "cell_type": "markdown",
   "metadata": {},
   "source": [
    "# 검색"
   ]
  },
  {
   "cell_type": "markdown",
   "metadata": {},
   "source": [
    "## match"
   ]
  },
  {
   "cell_type": "markdown",
   "metadata": {},
   "source": [
    "* 문자열의 시작점을 포함하는 매치 객체를 반환 (매치가 없다면 None)\n",
    "* 가능한 가장 긴 매치를 반환"
   ]
  },
  {
   "cell_type": "code",
   "execution_count": 22,
   "metadata": {},
   "outputs": [
    {
     "name": "stdout",
     "output_type": "stream",
     "text": [
      "<re.Match object; span=(0, 6), match='python'>\n",
      "None\n"
     ]
    }
   ],
   "source": [
    "sentence = 'python'\n",
    "print(p.match(sentence))\n",
    "\n",
    "sentence = 'Python'\n",
    "print(p.match(sentence))"
   ]
  },
  {
   "cell_type": "markdown",
   "metadata": {},
   "source": [
    "* 패턴을 재사용할 필요가 없다면 1줄로도 가능"
   ]
  },
  {
   "cell_type": "code",
   "execution_count": 23,
   "metadata": {},
   "outputs": [
    {
     "name": "stdout",
     "output_type": "stream",
     "text": [
      "<re.Match object; span=(0, 6), match='python'>\n"
     ]
    }
   ],
   "source": [
    "print(re.match('[a-z]*', 'python3.8'))"
   ]
  },
  {
   "cell_type": "markdown",
   "metadata": {},
   "source": [
    "## search"
   ]
  },
  {
   "cell_type": "markdown",
   "metadata": {},
   "source": [
    "* match랑 같지만 시작점이 자유, 첫번째 매치를 반환"
   ]
  },
  {
   "cell_type": "code",
   "execution_count": 24,
   "metadata": {},
   "outputs": [
    {
     "name": "stdout",
     "output_type": "stream",
     "text": [
      "<re.Match object; span=(2, 6), match='love'>\n",
      "None\n"
     ]
    }
   ],
   "source": [
    "sentence = 'I love python'\n",
    "print(p.search(sentence))\n",
    "\n",
    "sentence = 'I LOVE PYTHON'\n",
    "print(p.search(sentence))"
   ]
  },
  {
   "cell_type": "markdown",
   "metadata": {},
   "source": [
    "## finditer"
   ]
  },
  {
   "cell_type": "markdown",
   "metadata": {},
   "source": [
    "* search랑 같지만 모든 매치의iter를 반환"
   ]
  },
  {
   "cell_type": "code",
   "execution_count": 25,
   "metadata": {},
   "outputs": [
    {
     "name": "stdout",
     "output_type": "stream",
     "text": [
      "<callable_iterator object at 0x000001BC39E79C10>\n",
      "<re.Match object; span=(0, 4), match='life'>\n",
      "<re.Match object; span=(5, 7), match='is'>\n",
      "<re.Match object; span=(8, 11), match='too'>\n",
      "<re.Match object; span=(12, 17), match='short'>\n"
     ]
    }
   ],
   "source": [
    "result = p.finditer(\"life is too short\")\n",
    "print(result)\n",
    "\n",
    "for r in result:\n",
    "    print(r)"
   ]
  },
  {
   "cell_type": "markdown",
   "metadata": {},
   "source": [
    "## findall"
   ]
  },
  {
   "cell_type": "markdown",
   "metadata": {},
   "source": [
    "* finditer와 비슷하지만 매치객체대신 매치된 문자열의 리스트를 반환\n",
    "* group이 있으면 매칭된 group들을 튜플로"
   ]
  },
  {
   "cell_type": "code",
   "execution_count": 26,
   "metadata": {},
   "outputs": [
    {
     "name": "stdout",
     "output_type": "stream",
     "text": [
      "['life', 'is', 'too', 'short']\n"
     ]
    }
   ],
   "source": [
    "result = p.findall(\"life is too short\")\n",
    "print(result)"
   ]
  },
  {
   "cell_type": "code",
   "execution_count": 27,
   "metadata": {},
   "outputs": [
    {
     "name": "stdout",
     "output_type": "stream",
     "text": [
      "[('010', '3299', '3996'), ('010', '6596', '6325')]\n"
     ]
    }
   ],
   "source": [
    "print(re.findall(r'(\\d{3})-(\\d{4})-(\\d{4})','010-3299-3996 010-6596-6325',))"
   ]
  },
  {
   "cell_type": "markdown",
   "metadata": {},
   "source": [
    "# Match 객체 메소드"
   ]
  },
  {
   "cell_type": "markdown",
   "metadata": {},
   "source": [
    "## group"
   ]
  },
  {
   "cell_type": "markdown",
   "metadata": {},
   "source": [
    "* 매치된 문자열을 반환"
   ]
  },
  {
   "cell_type": "code",
   "execution_count": 28,
   "metadata": {},
   "outputs": [
    {
     "name": "stdout",
     "output_type": "stream",
     "text": [
      "python\n"
     ]
    }
   ],
   "source": [
    "p = re.compile('[a-z]*')\n",
    "match = p.match('python')\n",
    "\n",
    "print(match.group())"
   ]
  },
  {
   "cell_type": "markdown",
   "metadata": {},
   "source": [
    "## start, end"
   ]
  },
  {
   "cell_type": "markdown",
   "metadata": {},
   "source": [
    "* 시작 / 끝 인덱스를 반환, 끝은 slicing 기준"
   ]
  },
  {
   "cell_type": "code",
   "execution_count": 29,
   "metadata": {},
   "outputs": [
    {
     "name": "stdout",
     "output_type": "stream",
     "text": [
      "0\n",
      "6\n"
     ]
    }
   ],
   "source": [
    "print(match.start())\n",
    "print(match.end())"
   ]
  },
  {
   "cell_type": "markdown",
   "metadata": {},
   "source": [
    "## span"
   ]
  },
  {
   "cell_type": "markdown",
   "metadata": {},
   "source": [
    "* start(), end() 값을 튜플로 반환"
   ]
  },
  {
   "cell_type": "code",
   "execution_count": 30,
   "metadata": {
    "scrolled": true
   },
   "outputs": [
    {
     "name": "stdout",
     "output_type": "stream",
     "text": [
      "(0, 6)\n",
      "python\n"
     ]
    }
   ],
   "source": [
    "span = match.span()\n",
    "print(span)\n",
    "print('python'[span[0]:span[1]])"
   ]
  },
  {
   "cell_type": "markdown",
   "metadata": {},
   "source": [
    "# Grouping"
   ]
  },
  {
   "cell_type": "markdown",
   "metadata": {},
   "source": [
    "* 여러 문자를 하나로 취급"
   ]
  },
  {
   "cell_type": "code",
   "execution_count": 31,
   "metadata": {},
   "outputs": [
    {
     "name": "stdout",
     "output_type": "stream",
     "text": [
      "<re.Match object; span=(0, 9), match='ABCABCABC'>\n"
     ]
    }
   ],
   "source": [
    "p = re.compile('(ABC)+')\n",
    "m = p.search('ABCABCABC OK?')\n",
    "print(m)"
   ]
  },
  {
   "cell_type": "markdown",
   "metadata": {},
   "source": [
    "* group 메소드로 문자열 뽑기"
   ]
  },
  {
   "cell_type": "code",
   "execution_count": 32,
   "metadata": {},
   "outputs": [
    {
     "name": "stdout",
     "output_type": "stream",
     "text": [
      "전체: park 010-1234-1234\n",
      "이름: park\n",
      "번호: 010-1234-1234\n",
      "국번: 010\n"
     ]
    }
   ],
   "source": [
    "p = re.compile(r\"(\\w+)\\s+((\\d+)[-]\\d+[-]\\d+)\")\n",
    "m = p.search(\"park 010-1234-1234\")\n",
    "print('전체:', m.group())\n",
    "print('이름:', m.group(1))\n",
    "print('번호:', m.group(2))\n",
    "print('국번:', m.group(3))"
   ]
  },
  {
   "cell_type": "markdown",
   "metadata": {},
   "source": [
    "* group 이름 붙이기 `(?P<그룹명>...)`"
   ]
  },
  {
   "cell_type": "code",
   "execution_count": 33,
   "metadata": {},
   "outputs": [
    {
     "name": "stdout",
     "output_type": "stream",
     "text": [
      "park\n"
     ]
    }
   ],
   "source": [
    "p = re.compile(r\"(?P<name>\\w+)\\s+((\\d+)[-]\\d+[-]\\d+)\")\n",
    "m = p.search(\"park 010-1234-1234\")\n",
    "print(m.group('name'))"
   ]
  },
  {
   "cell_type": "markdown",
   "metadata": {},
   "source": [
    "* group 재참조"
   ]
  },
  {
   "cell_type": "code",
   "execution_count": 34,
   "metadata": {},
   "outputs": [
    {
     "data": {
      "text/plain": [
       "'the the'"
      ]
     },
     "execution_count": 34,
     "metadata": {},
     "output_type": "execute_result"
    }
   ],
   "source": [
    "p = re.compile(r'(\\b\\w+)\\s+\\1')    # \\1을 사용하여 첫번째 그룹을 재사용\n",
    "p.search('Paris in the the spring').group()"
   ]
  },
  {
   "cell_type": "code",
   "execution_count": 35,
   "metadata": {},
   "outputs": [
    {
     "data": {
      "text/plain": [
       "'the the'"
      ]
     },
     "execution_count": 35,
     "metadata": {},
     "output_type": "execute_result"
    }
   ],
   "source": [
    "p = re.compile(r'(?P<word>\\b\\w+)\\s+(?P=word)') # 이름을 사용하여 재참조\n",
    "p.search('Paris in the the spring').group()"
   ]
  },
  {
   "cell_type": "markdown",
   "metadata": {},
   "source": [
    "# 전후방 탐색"
   ]
  },
  {
   "cell_type": "markdown",
   "metadata": {},
   "source": [
    "## 긍정형 전방탐색"
   ]
  },
  {
   "cell_type": "markdown",
   "metadata": {},
   "source": [
    "* `(?=...)` :  ...이 검색에는 포함되지만 검색 결과에는 제외됨"
   ]
  },
  {
   "cell_type": "code",
   "execution_count": 36,
   "metadata": {},
   "outputs": [
    {
     "name": "stdout",
     "output_type": "stream",
     "text": [
      "['file1', 'file2', 'file3', 'file4']\n"
     ]
    }
   ],
   "source": [
    "files ='''file1.docx\n",
    "file2.bat\n",
    "file3.py\n",
    "file4.exe'''\n",
    "\n",
    "p = re.compile('.+(?=\\..+$)', re.M)\n",
    "print(p.findall(files))"
   ]
  },
  {
   "cell_type": "markdown",
   "metadata": {},
   "source": [
    "## 긍정형 후방탐색"
   ]
  },
  {
   "cell_type": "markdown",
   "metadata": {},
   "source": [
    "* `(?<=...)` :  ...긍정형 전방탐색과 비슷하지만 길이가 일정해야함"
   ]
  },
  {
   "cell_type": "code",
   "execution_count": 37,
   "metadata": {},
   "outputs": [
    {
     "name": "stdout",
     "output_type": "stream",
     "text": [
      "['docx', 'bat', 'py', 'exe']\n"
     ]
    }
   ],
   "source": [
    "p = re.compile('(?<=file\\d.)\\w+$', re.M)\n",
    "print(p.findall(files))"
   ]
  },
  {
   "cell_type": "markdown",
   "metadata": {},
   "source": [
    "## 부정형 전방탐색"
   ]
  },
  {
   "cell_type": "markdown",
   "metadata": {},
   "source": [
    "* `(?!...)`  :  ...에 해당되는 정규식은 매칭이 안됨"
   ]
  },
  {
   "cell_type": "code",
   "execution_count": 38,
   "metadata": {},
   "outputs": [
    {
     "name": "stdout",
     "output_type": "stream",
     "text": [
      "['file1.docx', 'file3.py']\n"
     ]
    }
   ],
   "source": [
    "files ='''file1.docx\n",
    "file2.bat\n",
    "file3.py\n",
    "file4.exe'''\n",
    "\n",
    "p = re.compile('.*[.](?!bat$|exe$).*$', re.M)\n",
    "print(p.findall(files))"
   ]
  },
  {
   "cell_type": "markdown",
   "metadata": {},
   "source": [
    "## 부정형 후방탐색"
   ]
  },
  {
   "cell_type": "markdown",
   "metadata": {},
   "source": [
    "* `(?<!...)` : 부정형 전방탐색과 비슷하지만 길이가 정해져있어야 함"
   ]
  },
  {
   "cell_type": "code",
   "execution_count": 39,
   "metadata": {},
   "outputs": [
    {
     "name": "stdout",
     "output_type": "stream",
     "text": [
      "['file2.bat', 'file4.exe']\n"
     ]
    }
   ],
   "source": [
    "p = re.compile('.*(?<!1|3)\\..+$', re.M)\n",
    "print(p.findall(files))"
   ]
  },
  {
   "cell_type": "markdown",
   "metadata": {},
   "source": [
    "# sub"
   ]
  },
  {
   "cell_type": "markdown",
   "metadata": {},
   "source": [
    "* 매칭된 문자를 치환"
   ]
  },
  {
   "cell_type": "code",
   "execution_count": 40,
   "metadata": {},
   "outputs": [
    {
     "data": {
      "text/plain": [
       "'colour socks and colour shoes'"
      ]
     },
     "execution_count": 40,
     "metadata": {},
     "output_type": "execute_result"
    }
   ],
   "source": [
    "p = re.compile('(blue|white|red)')\n",
    "p.sub('colour', 'blue socks and red shoes')"
   ]
  },
  {
   "cell_type": "markdown",
   "metadata": {},
   "source": [
    "* 치환 횟수 지정"
   ]
  },
  {
   "cell_type": "code",
   "execution_count": 41,
   "metadata": {},
   "outputs": [
    {
     "data": {
      "text/plain": [
       "'colour socks and red shoes'"
      ]
     },
     "execution_count": 41,
     "metadata": {},
     "output_type": "execute_result"
    }
   ],
   "source": [
    "p.sub('colour', 'blue socks and red shoes', count=1)"
   ]
  },
  {
   "cell_type": "markdown",
   "metadata": {},
   "source": [
    "* subn : 바뀐 문자열과 바뀐 횟수를 튜플로 반환"
   ]
  },
  {
   "cell_type": "code",
   "execution_count": 42,
   "metadata": {},
   "outputs": [
    {
     "data": {
      "text/plain": [
       "('colour socks and colour shoes', 2)"
      ]
     },
     "execution_count": 42,
     "metadata": {},
     "output_type": "execute_result"
    }
   ],
   "source": [
    "p = re.compile('(blue|white|red)')\n",
    "p.subn( 'colour', 'blue socks and red shoes')"
   ]
  },
  {
   "cell_type": "markdown",
   "metadata": {},
   "source": [
    "* 참조 활용"
   ]
  },
  {
   "cell_type": "code",
   "execution_count": 43,
   "metadata": {},
   "outputs": [
    {
     "name": "stdout",
     "output_type": "stream",
     "text": [
      "010-1234-1234 park\n"
     ]
    }
   ],
   "source": [
    "p = re.compile(r\"(\\w+)\\s+((\\d+)[-]\\d+[-]\\d+)\")\n",
    "print(p.sub(r\"\\2 \\1\", \"park 010-1234-1234\"))"
   ]
  },
  {
   "cell_type": "code",
   "execution_count": 44,
   "metadata": {
    "scrolled": true
   },
   "outputs": [
    {
     "name": "stdout",
     "output_type": "stream",
     "text": [
      "010-1234-1234 park\n"
     ]
    }
   ],
   "source": [
    "p = re.compile(r\"(?P<name>\\w+)\\s+(?P<phone>(\\d+)[-]\\d+[-]\\d+)\")\n",
    "print(p.sub(\"\\g<phone> \\g<name>\", \"park 010-1234-1234\"))"
   ]
  },
  {
   "cell_type": "markdown",
   "metadata": {},
   "source": [
    "* 함수를 이용하여 치환"
   ]
  },
  {
   "cell_type": "code",
   "execution_count": 45,
   "metadata": {},
   "outputs": [
    {
     "data": {
      "text/plain": [
       "'Call 0xffd2 for printing, 0xc000 for user code.'"
      ]
     },
     "execution_count": 45,
     "metadata": {},
     "output_type": "execute_result"
    }
   ],
   "source": [
    "def hexrepl(match):\n",
    "     value = int(match.group())\n",
    "     return hex(value)\n",
    "\n",
    "p = re.compile(r'\\d+')\n",
    "p.sub(hexrepl, 'Call 65490 for printing, 49152 for user code.')"
   ]
  },
  {
   "cell_type": "markdown",
   "metadata": {},
   "source": [
    "# Greedy/ Non-Greedy"
   ]
  },
  {
   "cell_type": "markdown",
   "metadata": {},
   "source": [
    "* non-greedy 문자인 ?를 사용하면 *의 탐욕을 제한할 수 있음"
   ]
  },
  {
   "cell_type": "code",
   "execution_count": 46,
   "metadata": {
    "scrolled": true
   },
   "outputs": [
    {
     "name": "stdout",
     "output_type": "stream",
     "text": [
      "Greedy: <html><head><title>Title</title>\n",
      "Non-Greedy: <html>\n"
     ]
    }
   ],
   "source": [
    "s = '<html><head><title>Title</title>'  \n",
    "print('Greedy:', re.match('<.*>', s).group())\n",
    "print('Non-Greedy:', re.match('<.*?>', s).group())"
   ]
  }
 ],
 "metadata": {
  "kernelspec": {
   "display_name": "Python 3",
   "language": "python",
   "name": "python3"
  },
  "language_info": {
   "codemirror_mode": {
    "name": "ipython",
    "version": 3
   },
   "file_extension": ".py",
   "mimetype": "text/x-python",
   "name": "python",
   "nbconvert_exporter": "python",
   "pygments_lexer": "ipython3",
   "version": "3.8.5"
  },
  "toc": {
   "base_numbering": 1,
   "nav_menu": {},
   "number_sections": true,
   "sideBar": true,
   "skip_h1_title": false,
   "title_cell": "Table of Contents",
   "title_sidebar": "Contents",
   "toc_cell": false,
   "toc_position": {},
   "toc_section_display": true,
   "toc_window_display": true
  }
 },
 "nbformat": 4,
 "nbformat_minor": 4
}
